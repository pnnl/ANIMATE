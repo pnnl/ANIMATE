{
 "cells": [
  {
   "cell_type": "code",
   "execution_count": 1,
   "metadata": {
    "ExecuteTime": {
     "end_time": "2020-09-16T06:46:56.642490Z",
     "start_time": "2020-09-16T06:46:55.085949Z"
    }
   },
   "outputs": [],
   "source": [
    "from checklib import *\n",
    "from tqdm.notebook import tqdm\n",
    "import json\n",
    "from datetimeep import DateTimeEP\n",
    "import pandas as pd"
   ]
  },
  {
   "cell_type": "markdown",
   "metadata": {},
   "source": [
    "## setup"
   ]
  },
  {
   "cell_type": "code",
   "execution_count": 2,
   "metadata": {
    "ExecuteTime": {
     "end_time": "2020-09-16T06:46:56.648455Z",
     "start_time": "2020-09-16T06:46:56.643951Z"
    }
   },
   "outputs": [],
   "source": [
    "idd_path = r\"..\\demo\\Energy+V9_0_1.idd\"\n",
    "epvars_path = r\"..\\demo\\option2\\ASHRAE901_SchoolPrimary_STD2019_ElPaso.csv\""
   ]
  },
  {
   "cell_type": "code",
   "execution_count": 3,
   "metadata": {
    "ExecuteTime": {
     "end_time": "2020-09-16T06:46:56.665953Z",
     "start_time": "2020-09-16T06:46:56.650952Z"
    }
   },
   "outputs": [],
   "source": [
    "with open(\"../schema/simplified2items.json\") as json_file:\n",
    "    data = json.load(json_file)\n",
    "items = data[\"items\"]"
   ]
  },
  {
   "cell_type": "markdown",
   "metadata": {},
   "source": [
    "**items[0] is:**\n",
    "\n",
    "```json\n",
    "        {\n",
    "            \"no\": 1,\n",
    "            \"verification_type\": \"compliance\",\n",
    "            \"description_brief\": \"Continuous dimming (daylighting control)\",\n",
    "            \"description_detail\": \"The photocontrol shall reduce electric lighting power in response to available daylight using continuous dimming to 20% or less and off.\",\n",
    "            \"description_index\": \"Section 9.4.1.1 in 90.1-2019\",\n",
    "            \"datapoints_source\": {\n",
    "                \"output_variables\": {\n",
    "                    \"Electric_light_power\": \"LIBRARY_MEDIA_CENTER_ZN_1_FLR_1_LIGHTS:Lights Electric Power [W](TimeStep)\"\n",
    "                }\n",
    "            },\n",
    "            \"description_datapoints\": {},\n",
    "            \"verification_class\": \"ContinuousDimmingCompliance\"\n",
    "        }\n",
    "```"
   ]
  },
  {
   "cell_type": "markdown",
   "metadata": {},
   "source": [
    "## Workflow"
   ]
  },
  {
   "cell_type": "markdown",
   "metadata": {},
   "source": [
    "### Steps before reading simulation i/o are omitted"
   ]
  },
  {
   "cell_type": "markdown",
   "metadata": {},
   "source": [
    "### Read simulation output"
   ]
  },
  {
   "cell_type": "code",
   "execution_count": 4,
   "metadata": {
    "ExecuteTime": {
     "end_time": "2020-09-16T06:46:57.574452Z",
     "start_time": "2020-09-16T06:46:56.672454Z"
    }
   },
   "outputs": [
    {
     "data": {
      "text/html": [
       "<div>\n",
       "<style scoped>\n",
       "    .dataframe tbody tr th:only-of-type {\n",
       "        vertical-align: middle;\n",
       "    }\n",
       "\n",
       "    .dataframe tbody tr th {\n",
       "        vertical-align: top;\n",
       "    }\n",
       "\n",
       "    .dataframe thead th {\n",
       "        text-align: right;\n",
       "    }\n",
       "</style>\n",
       "<table border=\"1\" class=\"dataframe\">\n",
       "  <thead>\n",
       "    <tr style=\"text-align: right;\">\n",
       "      <th></th>\n",
       "      <th>Date/Time</th>\n",
       "      <th>CORNER_CLASS_1_POD_1_ZN_1_FLR_1_LIGHTS:Lights Electric Power [W](TimeStep)</th>\n",
       "      <th>CORNER_CLASS_1_POD_1_ZN_1_FLR_1_LIGHTS:Lights Electric Energy [J](TimeStep)</th>\n",
       "      <th>MULT_CLASS_1_POD_1_ZN_1_FLR_1_LIGHTS:Lights Electric Power [W](TimeStep)</th>\n",
       "      <th>MULT_CLASS_1_POD_1_ZN_1_FLR_1_LIGHTS:Lights Electric Energy [J](TimeStep)</th>\n",
       "      <th>CORRIDOR_POD_1_ZN_1_FLR_1_LIGHTS:Lights Electric Power [W](TimeStep)</th>\n",
       "      <th>CORRIDOR_POD_1_ZN_1_FLR_1_LIGHTS:Lights Electric Energy [J](TimeStep)</th>\n",
       "      <th>CORNER_CLASS_2_POD_1_ZN_1_FLR_1_LIGHTS:Lights Electric Power [W](TimeStep)</th>\n",
       "      <th>CORNER_CLASS_2_POD_1_ZN_1_FLR_1_LIGHTS:Lights Electric Energy [J](TimeStep)</th>\n",
       "      <th>MULT_CLASS_2_POD_1_ZN_1_FLR_1_LIGHTS:Lights Electric Power [W](TimeStep)</th>\n",
       "      <th>...</th>\n",
       "      <th>LOBBY_ZN_1_FLR_1_DAYLCTRL:Daylighting Reference Point 1 Illuminance [lux](TimeStep)</th>\n",
       "      <th>LOBBY_ZN_1_FLR_1_DAYLCTRL:Daylighting Reference Point 2 Illuminance [lux](TimeStep)</th>\n",
       "      <th>OFFICES_ZN_1_FLR_1_DAYLCTRL:Daylighting Reference Point 1 Illuminance [lux](TimeStep)</th>\n",
       "      <th>OFFICES_ZN_1_FLR_1_DAYLCTRL:Daylighting Reference Point 2 Illuminance [lux](TimeStep)</th>\n",
       "      <th>CAFETERIA_ZN_1_FLR_1_DAYLCTRL:Daylighting Reference Point 1 Illuminance [lux](TimeStep)</th>\n",
       "      <th>CAFETERIA_ZN_1_FLR_1_DAYLCTRL:Daylighting Reference Point 2 Illuminance [lux](TimeStep)</th>\n",
       "      <th>LIBRARY_MEDIA_CENTER_ZN_1_FLR_1_DAYLCTRL:Daylighting Reference Point 1 Illuminance [lux](TimeStep)</th>\n",
       "      <th>LIBRARY_MEDIA_CENTER_ZN_1_FLR_1_DAYLCTRL:Daylighting Reference Point 2 Illuminance [lux](TimeStep)</th>\n",
       "      <th>BLDG_LIGHT_GYM_SCH:Schedule Value [](TimeStep)</th>\n",
       "      <th>BLDG_LIGHT_LIBRARY_SCH:Schedule Value [](TimeStep)</th>\n",
       "    </tr>\n",
       "  </thead>\n",
       "  <tbody>\n",
       "    <tr>\n",
       "      <th>2000-12-21 00:10:00</th>\n",
       "      <td>12/21  00:10:00</td>\n",
       "      <td>0.0</td>\n",
       "      <td>0.0</td>\n",
       "      <td>0.0</td>\n",
       "      <td>0.0</td>\n",
       "      <td>0.0</td>\n",
       "      <td>0.0</td>\n",
       "      <td>0.0</td>\n",
       "      <td>0.0</td>\n",
       "      <td>0.0</td>\n",
       "      <td>...</td>\n",
       "      <td>0.0</td>\n",
       "      <td>0.0</td>\n",
       "      <td>0.0</td>\n",
       "      <td>0.0</td>\n",
       "      <td>0.0</td>\n",
       "      <td>0.0</td>\n",
       "      <td>0.0</td>\n",
       "      <td>0.0</td>\n",
       "      <td>0.0</td>\n",
       "      <td>0.0</td>\n",
       "    </tr>\n",
       "    <tr>\n",
       "      <th>2000-12-21 00:20:00</th>\n",
       "      <td>12/21  00:20:00</td>\n",
       "      <td>0.0</td>\n",
       "      <td>0.0</td>\n",
       "      <td>0.0</td>\n",
       "      <td>0.0</td>\n",
       "      <td>0.0</td>\n",
       "      <td>0.0</td>\n",
       "      <td>0.0</td>\n",
       "      <td>0.0</td>\n",
       "      <td>0.0</td>\n",
       "      <td>...</td>\n",
       "      <td>0.0</td>\n",
       "      <td>0.0</td>\n",
       "      <td>0.0</td>\n",
       "      <td>0.0</td>\n",
       "      <td>0.0</td>\n",
       "      <td>0.0</td>\n",
       "      <td>0.0</td>\n",
       "      <td>0.0</td>\n",
       "      <td>0.0</td>\n",
       "      <td>0.0</td>\n",
       "    </tr>\n",
       "    <tr>\n",
       "      <th>2000-12-21 00:30:00</th>\n",
       "      <td>12/21  00:30:00</td>\n",
       "      <td>0.0</td>\n",
       "      <td>0.0</td>\n",
       "      <td>0.0</td>\n",
       "      <td>0.0</td>\n",
       "      <td>0.0</td>\n",
       "      <td>0.0</td>\n",
       "      <td>0.0</td>\n",
       "      <td>0.0</td>\n",
       "      <td>0.0</td>\n",
       "      <td>...</td>\n",
       "      <td>0.0</td>\n",
       "      <td>0.0</td>\n",
       "      <td>0.0</td>\n",
       "      <td>0.0</td>\n",
       "      <td>0.0</td>\n",
       "      <td>0.0</td>\n",
       "      <td>0.0</td>\n",
       "      <td>0.0</td>\n",
       "      <td>0.0</td>\n",
       "      <td>0.0</td>\n",
       "    </tr>\n",
       "    <tr>\n",
       "      <th>2000-12-21 00:40:00</th>\n",
       "      <td>12/21  00:40:00</td>\n",
       "      <td>0.0</td>\n",
       "      <td>0.0</td>\n",
       "      <td>0.0</td>\n",
       "      <td>0.0</td>\n",
       "      <td>0.0</td>\n",
       "      <td>0.0</td>\n",
       "      <td>0.0</td>\n",
       "      <td>0.0</td>\n",
       "      <td>0.0</td>\n",
       "      <td>...</td>\n",
       "      <td>0.0</td>\n",
       "      <td>0.0</td>\n",
       "      <td>0.0</td>\n",
       "      <td>0.0</td>\n",
       "      <td>0.0</td>\n",
       "      <td>0.0</td>\n",
       "      <td>0.0</td>\n",
       "      <td>0.0</td>\n",
       "      <td>0.0</td>\n",
       "      <td>0.0</td>\n",
       "    </tr>\n",
       "    <tr>\n",
       "      <th>2000-12-21 00:50:00</th>\n",
       "      <td>12/21  00:50:00</td>\n",
       "      <td>0.0</td>\n",
       "      <td>0.0</td>\n",
       "      <td>0.0</td>\n",
       "      <td>0.0</td>\n",
       "      <td>0.0</td>\n",
       "      <td>0.0</td>\n",
       "      <td>0.0</td>\n",
       "      <td>0.0</td>\n",
       "      <td>0.0</td>\n",
       "      <td>...</td>\n",
       "      <td>0.0</td>\n",
       "      <td>0.0</td>\n",
       "      <td>0.0</td>\n",
       "      <td>0.0</td>\n",
       "      <td>0.0</td>\n",
       "      <td>0.0</td>\n",
       "      <td>0.0</td>\n",
       "      <td>0.0</td>\n",
       "      <td>0.0</td>\n",
       "      <td>0.0</td>\n",
       "    </tr>\n",
       "  </tbody>\n",
       "</table>\n",
       "<p>5 rows × 89 columns</p>\n",
       "</div>"
      ],
      "text/plain": [
       "                            Date/Time  \\\n",
       "2000-12-21 00:10:00   12/21  00:10:00   \n",
       "2000-12-21 00:20:00   12/21  00:20:00   \n",
       "2000-12-21 00:30:00   12/21  00:30:00   \n",
       "2000-12-21 00:40:00   12/21  00:40:00   \n",
       "2000-12-21 00:50:00   12/21  00:50:00   \n",
       "\n",
       "                     CORNER_CLASS_1_POD_1_ZN_1_FLR_1_LIGHTS:Lights Electric Power [W](TimeStep)  \\\n",
       "2000-12-21 00:10:00                                                0.0                            \n",
       "2000-12-21 00:20:00                                                0.0                            \n",
       "2000-12-21 00:30:00                                                0.0                            \n",
       "2000-12-21 00:40:00                                                0.0                            \n",
       "2000-12-21 00:50:00                                                0.0                            \n",
       "\n",
       "                     CORNER_CLASS_1_POD_1_ZN_1_FLR_1_LIGHTS:Lights Electric Energy [J](TimeStep)  \\\n",
       "2000-12-21 00:10:00                                                0.0                             \n",
       "2000-12-21 00:20:00                                                0.0                             \n",
       "2000-12-21 00:30:00                                                0.0                             \n",
       "2000-12-21 00:40:00                                                0.0                             \n",
       "2000-12-21 00:50:00                                                0.0                             \n",
       "\n",
       "                     MULT_CLASS_1_POD_1_ZN_1_FLR_1_LIGHTS:Lights Electric Power [W](TimeStep)  \\\n",
       "2000-12-21 00:10:00                                                0.0                          \n",
       "2000-12-21 00:20:00                                                0.0                          \n",
       "2000-12-21 00:30:00                                                0.0                          \n",
       "2000-12-21 00:40:00                                                0.0                          \n",
       "2000-12-21 00:50:00                                                0.0                          \n",
       "\n",
       "                     MULT_CLASS_1_POD_1_ZN_1_FLR_1_LIGHTS:Lights Electric Energy [J](TimeStep)  \\\n",
       "2000-12-21 00:10:00                                                0.0                           \n",
       "2000-12-21 00:20:00                                                0.0                           \n",
       "2000-12-21 00:30:00                                                0.0                           \n",
       "2000-12-21 00:40:00                                                0.0                           \n",
       "2000-12-21 00:50:00                                                0.0                           \n",
       "\n",
       "                     CORRIDOR_POD_1_ZN_1_FLR_1_LIGHTS:Lights Electric Power [W](TimeStep)  \\\n",
       "2000-12-21 00:10:00                                                0.0                      \n",
       "2000-12-21 00:20:00                                                0.0                      \n",
       "2000-12-21 00:30:00                                                0.0                      \n",
       "2000-12-21 00:40:00                                                0.0                      \n",
       "2000-12-21 00:50:00                                                0.0                      \n",
       "\n",
       "                     CORRIDOR_POD_1_ZN_1_FLR_1_LIGHTS:Lights Electric Energy [J](TimeStep)  \\\n",
       "2000-12-21 00:10:00                                                0.0                       \n",
       "2000-12-21 00:20:00                                                0.0                       \n",
       "2000-12-21 00:30:00                                                0.0                       \n",
       "2000-12-21 00:40:00                                                0.0                       \n",
       "2000-12-21 00:50:00                                                0.0                       \n",
       "\n",
       "                     CORNER_CLASS_2_POD_1_ZN_1_FLR_1_LIGHTS:Lights Electric Power [W](TimeStep)  \\\n",
       "2000-12-21 00:10:00                                                0.0                            \n",
       "2000-12-21 00:20:00                                                0.0                            \n",
       "2000-12-21 00:30:00                                                0.0                            \n",
       "2000-12-21 00:40:00                                                0.0                            \n",
       "2000-12-21 00:50:00                                                0.0                            \n",
       "\n",
       "                     CORNER_CLASS_2_POD_1_ZN_1_FLR_1_LIGHTS:Lights Electric Energy [J](TimeStep)  \\\n",
       "2000-12-21 00:10:00                                                0.0                             \n",
       "2000-12-21 00:20:00                                                0.0                             \n",
       "2000-12-21 00:30:00                                                0.0                             \n",
       "2000-12-21 00:40:00                                                0.0                             \n",
       "2000-12-21 00:50:00                                                0.0                             \n",
       "\n",
       "                     MULT_CLASS_2_POD_1_ZN_1_FLR_1_LIGHTS:Lights Electric Power [W](TimeStep)  \\\n",
       "2000-12-21 00:10:00                                                0.0                          \n",
       "2000-12-21 00:20:00                                                0.0                          \n",
       "2000-12-21 00:30:00                                                0.0                          \n",
       "2000-12-21 00:40:00                                                0.0                          \n",
       "2000-12-21 00:50:00                                                0.0                          \n",
       "\n",
       "                     ...  \\\n",
       "2000-12-21 00:10:00  ...   \n",
       "2000-12-21 00:20:00  ...   \n",
       "2000-12-21 00:30:00  ...   \n",
       "2000-12-21 00:40:00  ...   \n",
       "2000-12-21 00:50:00  ...   \n",
       "\n",
       "                     LOBBY_ZN_1_FLR_1_DAYLCTRL:Daylighting Reference Point 1 Illuminance [lux](TimeStep)  \\\n",
       "2000-12-21 00:10:00                                                0.0                                     \n",
       "2000-12-21 00:20:00                                                0.0                                     \n",
       "2000-12-21 00:30:00                                                0.0                                     \n",
       "2000-12-21 00:40:00                                                0.0                                     \n",
       "2000-12-21 00:50:00                                                0.0                                     \n",
       "\n",
       "                     LOBBY_ZN_1_FLR_1_DAYLCTRL:Daylighting Reference Point 2 Illuminance [lux](TimeStep)  \\\n",
       "2000-12-21 00:10:00                                                0.0                                     \n",
       "2000-12-21 00:20:00                                                0.0                                     \n",
       "2000-12-21 00:30:00                                                0.0                                     \n",
       "2000-12-21 00:40:00                                                0.0                                     \n",
       "2000-12-21 00:50:00                                                0.0                                     \n",
       "\n",
       "                     OFFICES_ZN_1_FLR_1_DAYLCTRL:Daylighting Reference Point 1 Illuminance [lux](TimeStep)  \\\n",
       "2000-12-21 00:10:00                                                0.0                                       \n",
       "2000-12-21 00:20:00                                                0.0                                       \n",
       "2000-12-21 00:30:00                                                0.0                                       \n",
       "2000-12-21 00:40:00                                                0.0                                       \n",
       "2000-12-21 00:50:00                                                0.0                                       \n",
       "\n",
       "                     OFFICES_ZN_1_FLR_1_DAYLCTRL:Daylighting Reference Point 2 Illuminance [lux](TimeStep)  \\\n",
       "2000-12-21 00:10:00                                                0.0                                       \n",
       "2000-12-21 00:20:00                                                0.0                                       \n",
       "2000-12-21 00:30:00                                                0.0                                       \n",
       "2000-12-21 00:40:00                                                0.0                                       \n",
       "2000-12-21 00:50:00                                                0.0                                       \n",
       "\n",
       "                     CAFETERIA_ZN_1_FLR_1_DAYLCTRL:Daylighting Reference Point 1 Illuminance [lux](TimeStep)  \\\n",
       "2000-12-21 00:10:00                                                0.0                                         \n",
       "2000-12-21 00:20:00                                                0.0                                         \n",
       "2000-12-21 00:30:00                                                0.0                                         \n",
       "2000-12-21 00:40:00                                                0.0                                         \n",
       "2000-12-21 00:50:00                                                0.0                                         \n",
       "\n",
       "                     CAFETERIA_ZN_1_FLR_1_DAYLCTRL:Daylighting Reference Point 2 Illuminance [lux](TimeStep)  \\\n",
       "2000-12-21 00:10:00                                                0.0                                         \n",
       "2000-12-21 00:20:00                                                0.0                                         \n",
       "2000-12-21 00:30:00                                                0.0                                         \n",
       "2000-12-21 00:40:00                                                0.0                                         \n",
       "2000-12-21 00:50:00                                                0.0                                         \n",
       "\n",
       "                     LIBRARY_MEDIA_CENTER_ZN_1_FLR_1_DAYLCTRL:Daylighting Reference Point 1 Illuminance [lux](TimeStep)  \\\n",
       "2000-12-21 00:10:00                                                0.0                                                    \n",
       "2000-12-21 00:20:00                                                0.0                                                    \n",
       "2000-12-21 00:30:00                                                0.0                                                    \n",
       "2000-12-21 00:40:00                                                0.0                                                    \n",
       "2000-12-21 00:50:00                                                0.0                                                    \n",
       "\n",
       "                     LIBRARY_MEDIA_CENTER_ZN_1_FLR_1_DAYLCTRL:Daylighting Reference Point 2 Illuminance [lux](TimeStep)  \\\n",
       "2000-12-21 00:10:00                                                0.0                                                    \n",
       "2000-12-21 00:20:00                                                0.0                                                    \n",
       "2000-12-21 00:30:00                                                0.0                                                    \n",
       "2000-12-21 00:40:00                                                0.0                                                    \n",
       "2000-12-21 00:50:00                                                0.0                                                    \n",
       "\n",
       "                     BLDG_LIGHT_GYM_SCH:Schedule Value [](TimeStep)  \\\n",
       "2000-12-21 00:10:00                                             0.0   \n",
       "2000-12-21 00:20:00                                             0.0   \n",
       "2000-12-21 00:30:00                                             0.0   \n",
       "2000-12-21 00:40:00                                             0.0   \n",
       "2000-12-21 00:50:00                                             0.0   \n",
       "\n",
       "                     BLDG_LIGHT_LIBRARY_SCH:Schedule Value [](TimeStep)  \n",
       "2000-12-21 00:10:00                                                0.0   \n",
       "2000-12-21 00:20:00                                                0.0   \n",
       "2000-12-21 00:30:00                                                0.0   \n",
       "2000-12-21 00:40:00                                                0.0   \n",
       "2000-12-21 00:50:00                                                0.0   \n",
       "\n",
       "[5 rows x 89 columns]"
      ]
     },
     "execution_count": 4,
     "metadata": {},
     "output_type": "execute_result"
    }
   ],
   "source": [
    "df = DateTimeEP(pd.read_csv(epvars_path)).transform()\n",
    "point_map = items[0][\"datapoints_source\"][\"output_variables\"]\n",
    "point_map_reverse = {value.strip(): key.strip() for key, value in point_map.items()}\n",
    "df = df.rename(str.strip, axis=\"columns\").rename(columns=point_map_reverse)\n",
    "df.head()"
   ]
  },
  {
   "cell_type": "markdown",
   "metadata": {},
   "source": [
    "### Run verification\n",
    "\n",
    "* For easy illustration, we slice out one day out of the full year simulation results"
   ]
  },
  {
   "cell_type": "code",
   "execution_count": 5,
   "metadata": {
    "ExecuteTime": {
     "end_time": "2020-09-16T06:46:57.810451Z",
     "start_time": "2020-09-16T06:46:57.576949Z"
    },
    "scrolled": false
   },
   "outputs": [
    {
     "data": {
      "image/png": "[encoded data removed]",
      "text/plain": [
       "<Figure size 432x288 with 1 Axes>"
      ]
     },
     "metadata": {
      "needs_background": "light"
     },
     "output_type": "display_data"
    }
   ],
   "source": [
    "results = ContinuousDimmingCompliance(df[\"2000-07-21\"]).get_checks"
   ]
  },
  {
   "cell_type": "code",
   "execution_count": 6,
   "metadata": {
    "ExecuteTime": {
     "end_time": "2020-09-16T06:46:57.823450Z",
     "start_time": "2020-09-16T06:46:57.812952Z"
    }
   },
   "outputs": [
    {
     "data": {
      "text/plain": [
       "(True,\n",
       " {'max_up_period': 360.0,\n",
       "  'max_down_period': 80.0,\n",
       "  'max_up_start': Timestamp('2000-07-21 13:10:00'),\n",
       "  'max_up_end': Timestamp('2000-07-21 19:10:00'),\n",
       "  'max_down_start': Timestamp('2000-07-21 05:10:00'),\n",
       "  'max_down_end': Timestamp('2000-07-21 06:30:00')})"
      ]
     },
     "execution_count": 6,
     "metadata": {},
     "output_type": "execute_result"
    }
   ],
   "source": [
    "results"
   ]
  },
  {
   "cell_type": "code",
   "execution_count": null,
   "metadata": {},
   "outputs": [],
   "source": []
  }
 ],
 "metadata": {
  "hide_input": false,
  "kernelspec": {
   "display_name": "Python 3",
   "language": "python",
   "name": "python3"
  },
  "language_info": {
   "codemirror_mode": {
    "name": "ipython",
    "version": 3
   },
   "file_extension": ".py",
   "mimetype": "text/x-python",
   "name": "python",
   "nbconvert_exporter": "python",
   "pygments_lexer": "ipython3",
   "version": "3.7.9"
  }
 },
 "nbformat": 4,
 "nbformat_minor": 4
}

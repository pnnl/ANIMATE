{
 "cells": [
  {
   "cell_type": "code",
   "execution_count": 1,
   "metadata": {
    "ExecuteTime": {
     "end_time": "2020-09-15T23:59:07.086076Z",
     "start_time": "2020-09-15T23:59:07.082075Z"
    }
   },
   "outputs": [],
   "source": [
    "from pprint import pprint"
   ]
  },
  {
   "cell_type": "code",
   "execution_count": 2,
   "metadata": {
    "ExecuteTime": {
     "end_time": "2020-09-15T23:59:07.850614Z",
     "start_time": "2020-09-15T23:59:07.089579Z"
    }
   },
   "outputs": [],
   "source": [
    "from workflowsteps import *"
   ]
  },
  {
   "cell_type": "markdown",
   "metadata": {},
   "source": [
    "## setup"
   ]
  },
  {
   "cell_type": "code",
   "execution_count": 3,
   "metadata": {
    "ExecuteTime": {
     "end_time": "2020-09-15T23:59:07.856659Z",
     "start_time": "2020-09-15T23:59:07.852578Z"
    }
   },
   "outputs": [],
   "source": [
    "idd_path = r\"..\\demo\\Energy+V9_0_1.idd\"\n",
    "idf_path = r\"..\\demo\\option1\\ASHRAE901_SchoolPrimary_STD2004_ElPaso.idf\"\n",
    "idf_path_out = r\"..\\demo\\option1\\ASHRAE901_SchoolPrimary_STD2004_ElPaso_injected.idf\"\n",
    "weather_path = r\"..\\weather\\USA_TX_El.Paso.Intl.AP.722700_TMY3.epw\"\n",
    "windows_demo_foler = r\"..\\demo\\option1\""
   ]
  },
  {
   "cell_type": "code",
   "execution_count": 4,
   "metadata": {
    "ExecuteTime": {
     "end_time": "2020-09-15T23:59:07.881575Z",
     "start_time": "2020-09-15T23:59:07.863072Z"
    }
   },
   "outputs": [],
   "source": [
    "items = read_json_file(\"../schema/item2_poc.json\")"
   ]
  },
  {
   "cell_type": "markdown",
   "metadata": {},
   "source": [
    "**items[0] is:**\n",
    "\n",
    "```json\n",
    "{\n",
    "    \"no\": 1,\n",
    "    \"verification_type\": \"compliance\",\n",
    "    \"description_brief\": \"Economizer Integration: Non-Integrated Economizer Operation\",\n",
    "    \"description_detail\": \"Economizer systems shall be integrated with the mechanical cooling system and be capable of providing partial cooling even when additional mechanical cooling is required to meet the remainder of the cooling load.\",\n",
    "    \"description_index\": \"Section 6.5.1.3 in 90.-2004\",\n",
    "    \"simulation_period\": \"annual\",\n",
    "    \"datapoints_source\": {\n",
    "        \"idf_objects\": {\n",
    "            \"OA_min_sys\": {\n",
    "                \"filters\": {\n",
    "                    \"idf_object_type\": \"Controller:OutdoorAir\",\n",
    "                    \"Name\": \"PSZ-AC_1:6_OA_Controller\"\n",
    "                },\n",
    "                \"exclusions\": {\"Minimum_Outdoor_Air_Flow_Rate\": \"Autosize\"},\n",
    "                \"field\": \"Minimum_Outdoor_Air_Flow_Rate\"\n",
    "            }\n",
    "        },\n",
    "        \"idf_output_variables\": {\n",
    "            \"OA_timestep\": {\n",
    "                \"subject\": \"PSZ-AC_1:6_OAInlet Node\",\n",
    "                \"variable\": \"System Node Standard Density Volume Flow Rate\",\n",
    "                \"frequency\": \"timestep\"\n",
    "            },\n",
    "            \"Cool_sys_out\": {\n",
    "                \"subject\": \"PSZ-AC_1:6\",\n",
    "                \"variable\": \"Air System Cooling Coil Total Cooling Energy\",\n",
    "                \"frequency\": \"timestep\"\n",
    "            }\n",
    "        },\n",
    "        \"parameters\": {},\n",
    "        \"dev_settings\": {}\n",
    "    },\n",
    "    \"description_datapoints\": {\n",
    "        \"OA_timestep\": \"System OA for a particular timestep, simulation output\",\n",
    "        \"Cool_sys_out\": \"System/air-loop cooling coil output (could be + or -, check EnergyPlus I/O guide), simulation output\",\n",
    "        \"OA_min_sys\": \"Minimum system OA, simulation output\"\n",
    "    },\n",
    "    \"assertions_type\": \"fail\",\n",
    "    \"assertion_level\": \"sample\",\n",
    "    \"assertions\": [\"$OA_timestep > $OA_min_sys and $Cool_sys_out > 0\"]\n",
    "}\n",
    "```"
   ]
  },
  {
   "cell_type": "markdown",
   "metadata": {},
   "source": [
    "## Workflow"
   ]
  },
  {
   "cell_type": "markdown",
   "metadata": {},
   "source": [
    "### Read verification item"
   ]
  },
  {
   "cell_type": "code",
   "execution_count": 5,
   "metadata": {
    "ExecuteTime": {
     "end_time": "2020-09-15T23:59:07.907579Z",
     "start_time": "2020-09-15T23:59:07.886575Z"
    },
    "scrolled": false
   },
   "outputs": [
    {
     "name": "stdout",
     "output_type": "stream",
     "text": [
      "=======\n",
      "idf_objects\n",
      "{'OA_min_sys': {'filters': {'idf_object_type': 'Controller:OutdoorAir', 'Name': 'PSZ-AC_1:6_OA_Controller'}, 'exclusions': {'Minimum_Outdoor_Air_Flow_Rate': 'Autosize'}, 'field': 'Minimum_Outdoor_Air_Flow_Rate'}}\n",
      "=======\n",
      "idf_output_variables\n",
      "{'OA_timestep': {'subject': 'PSZ-AC_1:6_OAInlet Node', 'variable': 'System Node Standard Density Volume Flow Rate', 'frequency': 'timestep'}, 'Cool_sys_out': {'subject': 'PSZ-AC_1:6', 'variable': 'Air System Cooling Coil Total Cooling Energy', 'frequency': 'timestep'}}\n",
      "=======\n",
      "parameters\n",
      "{}\n",
      "=======\n",
      "dev_settings\n",
      "{}\n"
     ]
    }
   ],
   "source": [
    "item = build_an_item(items[0])"
   ]
  },
  {
   "cell_type": "code",
   "execution_count": 6,
   "metadata": {
    "ExecuteTime": {
     "end_time": "2020-09-15T23:59:07.924575Z",
     "start_time": "2020-09-15T23:59:07.910076Z"
    }
   },
   "outputs": [
    {
     "data": {
      "text/plain": [
       "[<datapoint.IdfOutputPoint at 0x1afd8689b00>,\n",
       " <datapoint.IdfOutputPoint at 0x1afdad84b00>]"
      ]
     },
     "execution_count": 6,
     "metadata": {},
     "output_type": "execute_result"
    }
   ],
   "source": [
    "idf_outputs = read_injection_points(item)\n",
    "idf_outputs"
   ]
  },
  {
   "cell_type": "code",
   "execution_count": 7,
   "metadata": {
    "ExecuteTime": {
     "end_time": "2020-09-15T23:59:07.945579Z",
     "start_time": "2020-09-15T23:59:07.927575Z"
    }
   },
   "outputs": [
    {
     "name": "stdout",
     "output_type": "stream",
     "text": [
      "A total of 2 EP Output variables objecs are extracted from 1 item(s)\n"
     ]
    }
   ],
   "source": [
    "print(\n",
    "    f\"A total of {len(idf_outputs)} EP Output variables objecs are extracted from {len(items)} item(s)\"\n",
    ")"
   ]
  },
  {
   "cell_type": "code",
   "execution_count": 8,
   "metadata": {
    "ExecuteTime": {
     "end_time": "2020-09-15T23:59:07.967078Z",
     "start_time": "2020-09-15T23:59:07.950075Z"
    }
   },
   "outputs": [
    {
     "name": "stdout",
     "output_type": "stream",
     "text": [
      "2 unique output variables will be added to file\n"
     ]
    }
   ],
   "source": [
    "unique_output = combine_injection_points(idf_outputs)\n",
    "print(\n",
    "    f\"{len(unique_output)} unique output variables will be added to file\"\n",
    ")"
   ]
  },
  {
   "cell_type": "markdown",
   "metadata": {},
   "source": [
    "### Inject model"
   ]
  },
  {
   "cell_type": "code",
   "execution_count": 9,
   "metadata": {
    "ExecuteTime": {
     "end_time": "2020-09-15T23:59:08.041596Z",
     "start_time": "2020-09-15T23:59:07.971073Z"
    }
   },
   "outputs": [
    {
     "name": "stdout",
     "output_type": "stream",
     "text": [
      " Volume in drive C is Windows\n",
      " Volume Serial Number is A84E-D40D\n",
      "\n",
      " Directory of C:\\GitRepos\\hvac-verify\\demo\\option1\n",
      "\n",
      "09/15/2020  04:58 PM    <DIR>          .\n",
      "09/15/2020  04:58 PM    <DIR>          ..\n",
      "02/19/2020  07:28 PM           876,595 ASHRAE901_SchoolPrimary_STD2004_ElPaso.idf\n",
      "               1 File(s)        876,595 bytes\n",
      "               2 Dir(s)  724,336,541,696 bytes free\n"
     ]
    }
   ],
   "source": [
    "!dir $windows_demo_foler"
   ]
  },
  {
   "cell_type": "code",
   "execution_count": 10,
   "metadata": {
    "ExecuteTime": {
     "end_time": "2020-09-15T23:59:09.741116Z",
     "start_time": "2020-09-15T23:59:08.046575Z"
    }
   },
   "outputs": [],
   "source": [
    "inject_idf(\n",
    "    iddpath=idd_path,\n",
    "    idfpath_in=idf_path,\n",
    "    objstoinject=unique_output,\n",
    "    idfpath_out=idf_path_out,\n",
    ")"
   ]
  },
  {
   "cell_type": "code",
   "execution_count": 11,
   "metadata": {
    "ExecuteTime": {
     "end_time": "2020-09-15T23:59:09.796113Z",
     "start_time": "2020-09-15T23:59:09.743077Z"
    }
   },
   "outputs": [
    {
     "name": "stdout",
     "output_type": "stream",
     "text": [
      " Volume in drive C is Windows\n",
      " Volume Serial Number is A84E-D40D\n",
      "\n",
      " Directory of C:\\GitRepos\\hvac-verify\\demo\\option1\n",
      "\n",
      "09/15/2020  04:59 PM    <DIR>          .\n",
      "09/15/2020  04:59 PM    <DIR>          ..\n",
      "02/19/2020  07:28 PM           876,595 ASHRAE901_SchoolPrimary_STD2004_ElPaso.idf\n",
      "09/15/2020  04:59 PM           877,048 ASHRAE901_SchoolPrimary_STD2004_ElPaso_injected.idf\n",
      "               2 File(s)      1,753,643 bytes\n",
      "               2 Dir(s)  724,335,558,656 bytes free\n"
     ]
    }
   ],
   "source": [
    "!dir $windows_demo_foler"
   ]
  },
  {
   "cell_type": "markdown",
   "metadata": {},
   "source": [
    "### run simulation"
   ]
  },
  {
   "cell_type": "code",
   "execution_count": 12,
   "metadata": {
    "ExecuteTime": {
     "end_time": "2020-09-16T00:03:32.653074Z",
     "start_time": "2020-09-15T23:59:09.801109Z"
    }
   },
   "outputs": [
    {
     "name": "stdout",
     "output_type": "stream",
     "text": [
      "Running simulation: ..\\demo\\option1\\ASHRAE901_SchoolPrimary_STD2004_ElPaso_injected.idf -- 2020-09-15 16:59:09.803575\n",
      "Simulation complete -- 2020-09-15 17:03:32.640572\n",
      "Simulation log saved to output folder -- 2020-09-15 17:03:32.649574\n",
      "Workflow: simulation complete\n"
     ]
    }
   ],
   "source": [
    "run_simulation(\n",
    "    idfpath=idf_path_out,\n",
    "    weatherpath=weather_path,\n",
    ")\n",
    "print(\"Workflow: simulation complete\")"
   ]
  },
  {
   "cell_type": "code",
   "execution_count": 13,
   "metadata": {
    "ExecuteTime": {
     "end_time": "2020-09-16T00:03:32.719077Z",
     "start_time": "2020-09-16T00:03:32.656574Z"
    }
   },
   "outputs": [
    {
     "name": "stdout",
     "output_type": "stream",
     "text": [
      " Volume in drive C is Windows\n",
      " Volume Serial Number is A84E-D40D\n",
      "\n",
      " Directory of C:\\GitRepos\\hvac-verify\\demo\\option1\\ASHRAE901_SchoolPrimary_STD2004_ElPaso_injected\n",
      "\n",
      "09/15/2020  05:03 PM    <DIR>          .\n",
      "09/15/2020  05:03 PM    <DIR>          ..\n",
      "09/15/2020  05:03 PM           472,313 eplusmtr.csv\n",
      "09/15/2020  05:03 PM             1,721 eplusout.audit\n",
      "09/15/2020  05:03 PM           250,617 eplusout.bnd\n",
      "09/15/2020  05:03 PM         2,327,457 eplusout.csv\n",
      "09/15/2020  04:59 PM           105,461 eplusout.dxf\n",
      "09/15/2020  05:03 PM           305,556 eplusout.eio\n",
      "09/15/2020  05:03 PM               102 eplusout.end\n",
      "09/15/2020  05:03 PM            23,701 eplusout.err\n",
      "09/15/2020  05:03 PM         4,002,668 eplusout.eso\n",
      "09/15/2020  04:59 PM            37,296 eplusout.mdd\n",
      "09/15/2020  05:03 PM           180,122 eplusout.mtd\n",
      "09/15/2020  05:03 PM           725,841 eplusout.mtr\n",
      "09/15/2020  04:59 PM            65,561 eplusout.rdd\n",
      "09/15/2020  05:03 PM             1,034 eplusout.rvaudit\n",
      "09/15/2020  04:59 PM            86,187 eplusout.shd\n",
      "09/15/2020  05:03 PM           136,172 eplusssz.csv\n",
      "09/15/2020  05:03 PM           645,405 eplustbl.csv\n",
      "09/15/2020  05:03 PM         2,547,127 eplustbl.htm\n",
      "09/15/2020  04:59 PM           200,971 epluszsz.csv\n",
      "09/15/2020  05:03 PM           877,048 in.idf\n",
      "09/15/2020  05:03 PM             7,257 run_log.log\n",
      "09/15/2020  04:59 PM                 0 sqlite.err\n",
      "              22 File(s)     12,999,617 bytes\n",
      "               2 Dir(s)  724,321,804,288 bytes free\n"
     ]
    }
   ],
   "source": [
    "sim_folder = idf_path_out[:-4]\n",
    "!dir $sim_folder"
   ]
  },
  {
   "cell_type": "markdown",
   "metadata": {},
   "source": [
    "### Read simulation i/o required by verification"
   ]
  },
  {
   "cell_type": "code",
   "execution_count": 14,
   "metadata": {
    "ExecuteTime": {
     "end_time": "2020-09-16T00:03:34.979072Z",
     "start_time": "2020-09-16T00:03:32.725576Z"
    }
   },
   "outputs": [
    {
     "name": "stdout",
     "output_type": "stream",
     "text": [
      "2\n",
      "2\n",
      "['Date/Time', 'PSZ-AC_1:6_OAINLET NODE:System Node Standard Density Volume Flow Rate [m3/s](TimeStep)', 'PSZ-AC_1:6:Air System Cooling Coil Total Cooling Energy [J](TimeStep) ']\n"
     ]
    }
   ],
   "source": [
    "df = read_points(\n",
    "    runpath=sim_folder,\n",
    "    idf_filename=\"in.idf\",\n",
    "    csv_filename=\"eplusout.csv\",\n",
    "    idd_path=idd_path,\n",
    "    item=item,\n",
    ")"
   ]
  },
  {
   "cell_type": "code",
   "execution_count": 15,
   "metadata": {
    "ExecuteTime": {
     "end_time": "2020-09-16T00:03:35.010083Z",
     "start_time": "2020-09-16T00:03:34.981614Z"
    }
   },
   "outputs": [
    {
     "data": {
      "text/html": [
       "<div>\n",
       "<style scoped>\n",
       "    .dataframe tbody tr th:only-of-type {\n",
       "        vertical-align: middle;\n",
       "    }\n",
       "\n",
       "    .dataframe tbody tr th {\n",
       "        vertical-align: top;\n",
       "    }\n",
       "\n",
       "    .dataframe thead th {\n",
       "        text-align: right;\n",
       "    }\n",
       "</style>\n",
       "<table border=\"1\" class=\"dataframe\">\n",
       "  <thead>\n",
       "    <tr style=\"text-align: right;\">\n",
       "      <th></th>\n",
       "      <th>Date/Time</th>\n",
       "      <th>OA_timestep</th>\n",
       "      <th>Cool_sys_out</th>\n",
       "      <th>OA_min_sys</th>\n",
       "    </tr>\n",
       "  </thead>\n",
       "  <tbody>\n",
       "    <tr>\n",
       "      <th>0</th>\n",
       "      <td>01/01  00:10:00</td>\n",
       "      <td>0.112816</td>\n",
       "      <td>0.0</td>\n",
       "      <td>0.0</td>\n",
       "    </tr>\n",
       "    <tr>\n",
       "      <th>1</th>\n",
       "      <td>01/01  00:20:00</td>\n",
       "      <td>0.106475</td>\n",
       "      <td>0.0</td>\n",
       "      <td>0.0</td>\n",
       "    </tr>\n",
       "    <tr>\n",
       "      <th>2</th>\n",
       "      <td>01/01  00:30:00</td>\n",
       "      <td>0.067460</td>\n",
       "      <td>0.0</td>\n",
       "      <td>0.0</td>\n",
       "    </tr>\n",
       "    <tr>\n",
       "      <th>3</th>\n",
       "      <td>01/01  00:40:00</td>\n",
       "      <td>0.000000</td>\n",
       "      <td>0.0</td>\n",
       "      <td>0.0</td>\n",
       "    </tr>\n",
       "    <tr>\n",
       "      <th>4</th>\n",
       "      <td>01/01  00:50:00</td>\n",
       "      <td>0.116668</td>\n",
       "      <td>0.0</td>\n",
       "      <td>0.0</td>\n",
       "    </tr>\n",
       "  </tbody>\n",
       "</table>\n",
       "</div>"
      ],
      "text/plain": [
       "          Date/Time  OA_timestep  Cool_sys_out  OA_min_sys\n",
       "0   01/01  00:10:00     0.112816           0.0         0.0\n",
       "1   01/01  00:20:00     0.106475           0.0         0.0\n",
       "2   01/01  00:30:00     0.067460           0.0         0.0\n",
       "3   01/01  00:40:00     0.000000           0.0         0.0\n",
       "4   01/01  00:50:00     0.116668           0.0         0.0"
      ]
     },
     "execution_count": 15,
     "metadata": {},
     "output_type": "execute_result"
    }
   ],
   "source": [
    "df.head()"
   ]
  },
  {
   "cell_type": "markdown",
   "metadata": {},
   "source": [
    "### Run verification"
   ]
  },
  {
   "cell_type": "code",
   "execution_count": 16,
   "metadata": {
    "ExecuteTime": {
     "end_time": "2020-09-16T00:03:46.230621Z",
     "start_time": "2020-09-16T00:03:35.015578Z"
    }
   },
   "outputs": [],
   "source": [
    "results, testerdf = run_rules(item, df)"
   ]
  },
  {
   "cell_type": "code",
   "execution_count": 17,
   "metadata": {
    "ExecuteTime": {
     "end_time": "2020-09-16T00:03:46.263574Z",
     "start_time": "2020-09-16T00:03:46.232580Z"
    }
   },
   "outputs": [
    {
     "data": {
      "text/html": [
       "<div>\n",
       "<style scoped>\n",
       "    .dataframe tbody tr th:only-of-type {\n",
       "        vertical-align: middle;\n",
       "    }\n",
       "\n",
       "    .dataframe tbody tr th {\n",
       "        vertical-align: top;\n",
       "    }\n",
       "\n",
       "    .dataframe thead th {\n",
       "        text-align: right;\n",
       "    }\n",
       "</style>\n",
       "<table border=\"1\" class=\"dataframe\">\n",
       "  <thead>\n",
       "    <tr style=\"text-align: right;\">\n",
       "      <th></th>\n",
       "      <th>Date/Time</th>\n",
       "      <th>OA_timestep</th>\n",
       "      <th>Cool_sys_out</th>\n",
       "      <th>OA_min_sys</th>\n",
       "    </tr>\n",
       "  </thead>\n",
       "  <tbody>\n",
       "    <tr>\n",
       "      <th>180</th>\n",
       "      <td>01/02  06:10:00</td>\n",
       "      <td>0.334317</td>\n",
       "      <td>3.308728e+06</td>\n",
       "      <td>0.0</td>\n",
       "    </tr>\n",
       "    <tr>\n",
       "      <th>186</th>\n",
       "      <td>01/02  07:10:00</td>\n",
       "      <td>0.336712</td>\n",
       "      <td>8.109516e+02</td>\n",
       "      <td>0.0</td>\n",
       "    </tr>\n",
       "    <tr>\n",
       "      <th>187</th>\n",
       "      <td>01/02  07:20:00</td>\n",
       "      <td>0.342238</td>\n",
       "      <td>6.792602e+02</td>\n",
       "      <td>0.0</td>\n",
       "    </tr>\n",
       "    <tr>\n",
       "      <th>188</th>\n",
       "      <td>01/02  07:30:00</td>\n",
       "      <td>0.347249</td>\n",
       "      <td>3.332488e+02</td>\n",
       "      <td>0.0</td>\n",
       "    </tr>\n",
       "    <tr>\n",
       "      <th>189</th>\n",
       "      <td>01/02  07:40:00</td>\n",
       "      <td>0.357945</td>\n",
       "      <td>1.496041e+03</td>\n",
       "      <td>0.0</td>\n",
       "    </tr>\n",
       "    <tr>\n",
       "      <th>...</th>\n",
       "      <td>...</td>\n",
       "      <td>...</td>\n",
       "      <td>...</td>\n",
       "      <td>...</td>\n",
       "    </tr>\n",
       "    <tr>\n",
       "      <th>52171</th>\n",
       "      <td>12/29  07:20:00</td>\n",
       "      <td>0.239365</td>\n",
       "      <td>4.670565e+02</td>\n",
       "      <td>0.0</td>\n",
       "    </tr>\n",
       "    <tr>\n",
       "      <th>52172</th>\n",
       "      <td>12/29  07:30:00</td>\n",
       "      <td>0.238161</td>\n",
       "      <td>4.851751e+02</td>\n",
       "      <td>0.0</td>\n",
       "    </tr>\n",
       "    <tr>\n",
       "      <th>52173</th>\n",
       "      <td>12/29  07:40:00</td>\n",
       "      <td>0.241309</td>\n",
       "      <td>2.072151e+02</td>\n",
       "      <td>0.0</td>\n",
       "    </tr>\n",
       "    <tr>\n",
       "      <th>52174</th>\n",
       "      <td>12/29  07:50:00</td>\n",
       "      <td>0.244758</td>\n",
       "      <td>1.443468e+03</td>\n",
       "      <td>0.0</td>\n",
       "    </tr>\n",
       "    <tr>\n",
       "      <th>52175</th>\n",
       "      <td>12/29  08:00:00</td>\n",
       "      <td>0.249012</td>\n",
       "      <td>9.995691e+02</td>\n",
       "      <td>0.0</td>\n",
       "    </tr>\n",
       "  </tbody>\n",
       "</table>\n",
       "<p>20190 rows × 4 columns</p>\n",
       "</div>"
      ],
      "text/plain": [
       "              Date/Time  OA_timestep  Cool_sys_out  OA_min_sys\n",
       "180     01/02  06:10:00     0.334317  3.308728e+06         0.0\n",
       "186     01/02  07:10:00     0.336712  8.109516e+02         0.0\n",
       "187     01/02  07:20:00     0.342238  6.792602e+02         0.0\n",
       "188     01/02  07:30:00     0.347249  3.332488e+02         0.0\n",
       "189     01/02  07:40:00     0.357945  1.496041e+03         0.0\n",
       "...                 ...          ...           ...         ...\n",
       "52171   12/29  07:20:00     0.239365  4.670565e+02         0.0\n",
       "52172   12/29  07:30:00     0.238161  4.851751e+02         0.0\n",
       "52173   12/29  07:40:00     0.241309  2.072151e+02         0.0\n",
       "52174   12/29  07:50:00     0.244758  1.443468e+03         0.0\n",
       "52175   12/29  08:00:00     0.249012  9.995691e+02         0.0\n",
       "\n",
       "[20190 rows x 4 columns]"
      ]
     },
     "execution_count": 17,
     "metadata": {},
     "output_type": "execute_result"
    }
   ],
   "source": [
    "testerdf[testerdf[\"$OA_timestep > $OA_min_sys and $Cool_sys_out > 0\"] == True][testerdf.columns[0:4]]"
   ]
  },
  {
   "cell_type": "markdown",
   "metadata": {},
   "source": [
    "### Verification results"
   ]
  },
  {
   "cell_type": "code",
   "execution_count": 18,
   "metadata": {
    "ExecuteTime": {
     "end_time": "2020-09-16T00:03:46.304576Z",
     "start_time": "2020-09-16T00:03:46.266075Z"
    }
   },
   "outputs": [
    {
     "data": {
      "text/html": [
       "<div>\n",
       "<style scoped>\n",
       "    .dataframe tbody tr th:only-of-type {\n",
       "        vertical-align: middle;\n",
       "    }\n",
       "\n",
       "    .dataframe tbody tr th {\n",
       "        vertical-align: top;\n",
       "    }\n",
       "\n",
       "    .dataframe thead th {\n",
       "        text-align: right;\n",
       "    }\n",
       "</style>\n",
       "<table border=\"1\" class=\"dataframe\">\n",
       "  <thead>\n",
       "    <tr style=\"text-align: right;\">\n",
       "      <th></th>\n",
       "      <th>Date/Time</th>\n",
       "      <th>OA_timestep</th>\n",
       "      <th>Cool_sys_out</th>\n",
       "      <th>OA_min_sys</th>\n",
       "    </tr>\n",
       "  </thead>\n",
       "  <tbody>\n",
       "    <tr>\n",
       "      <th>0</th>\n",
       "      <td>01/01  00:10:00</td>\n",
       "      <td>0.112816</td>\n",
       "      <td>0.0</td>\n",
       "      <td>0.0</td>\n",
       "    </tr>\n",
       "    <tr>\n",
       "      <th>1</th>\n",
       "      <td>01/01  00:20:00</td>\n",
       "      <td>0.106475</td>\n",
       "      <td>0.0</td>\n",
       "      <td>0.0</td>\n",
       "    </tr>\n",
       "    <tr>\n",
       "      <th>2</th>\n",
       "      <td>01/01  00:30:00</td>\n",
       "      <td>0.067460</td>\n",
       "      <td>0.0</td>\n",
       "      <td>0.0</td>\n",
       "    </tr>\n",
       "    <tr>\n",
       "      <th>3</th>\n",
       "      <td>01/01  00:40:00</td>\n",
       "      <td>0.000000</td>\n",
       "      <td>0.0</td>\n",
       "      <td>0.0</td>\n",
       "    </tr>\n",
       "    <tr>\n",
       "      <th>4</th>\n",
       "      <td>01/01  00:50:00</td>\n",
       "      <td>0.116668</td>\n",
       "      <td>0.0</td>\n",
       "      <td>0.0</td>\n",
       "    </tr>\n",
       "    <tr>\n",
       "      <th>...</th>\n",
       "      <td>...</td>\n",
       "      <td>...</td>\n",
       "      <td>...</td>\n",
       "      <td>...</td>\n",
       "    </tr>\n",
       "    <tr>\n",
       "      <th>52555</th>\n",
       "      <td>12/31  23:20:00</td>\n",
       "      <td>0.000000</td>\n",
       "      <td>0.0</td>\n",
       "      <td>0.0</td>\n",
       "    </tr>\n",
       "    <tr>\n",
       "      <th>52556</th>\n",
       "      <td>12/31  23:30:00</td>\n",
       "      <td>0.000000</td>\n",
       "      <td>0.0</td>\n",
       "      <td>0.0</td>\n",
       "    </tr>\n",
       "    <tr>\n",
       "      <th>52557</th>\n",
       "      <td>12/31  23:40:00</td>\n",
       "      <td>0.158442</td>\n",
       "      <td>0.0</td>\n",
       "      <td>0.0</td>\n",
       "    </tr>\n",
       "    <tr>\n",
       "      <th>52558</th>\n",
       "      <td>12/31  23:50:00</td>\n",
       "      <td>0.197023</td>\n",
       "      <td>0.0</td>\n",
       "      <td>0.0</td>\n",
       "    </tr>\n",
       "    <tr>\n",
       "      <th>52559</th>\n",
       "      <td>12/31  24:00:00</td>\n",
       "      <td>0.004733</td>\n",
       "      <td>0.0</td>\n",
       "      <td>0.0</td>\n",
       "    </tr>\n",
       "  </tbody>\n",
       "</table>\n",
       "<p>32370 rows × 4 columns</p>\n",
       "</div>"
      ],
      "text/plain": [
       "              Date/Time  OA_timestep  Cool_sys_out  OA_min_sys\n",
       "0       01/01  00:10:00     0.112816           0.0         0.0\n",
       "1       01/01  00:20:00     0.106475           0.0         0.0\n",
       "2       01/01  00:30:00     0.067460           0.0         0.0\n",
       "3       01/01  00:40:00     0.000000           0.0         0.0\n",
       "4       01/01  00:50:00     0.116668           0.0         0.0\n",
       "...                 ...          ...           ...         ...\n",
       "52555   12/31  23:20:00     0.000000           0.0         0.0\n",
       "52556   12/31  23:30:00     0.000000           0.0         0.0\n",
       "52557   12/31  23:40:00     0.158442           0.0         0.0\n",
       "52558   12/31  23:50:00     0.197023           0.0         0.0\n",
       "52559   12/31  24:00:00     0.004733           0.0         0.0\n",
       "\n",
       "[32370 rows x 4 columns]"
      ]
     },
     "execution_count": 18,
     "metadata": {},
     "output_type": "execute_result"
    }
   ],
   "source": [
    "testerdf[testerdf[\"$OA_timestep > $OA_min_sys and $Cool_sys_out > 0\"] == False][testerdf.columns[0:4]]"
   ]
  }
 ],
 "metadata": {
  "hide_input": false,
  "kernelspec": {
   "display_name": "Python 3",
   "language": "python",
   "name": "python3"
  },
  "language_info": {
   "codemirror_mode": {
    "name": "ipython",
    "version": 3
   },
   "file_extension": ".py",
   "mimetype": "text/x-python",
   "name": "python",
   "nbconvert_exporter": "python",
   "pygments_lexer": "ipython3",
   "version": "3.7.3"
  }
 },
 "nbformat": 4,
 "nbformat_minor": 4
}

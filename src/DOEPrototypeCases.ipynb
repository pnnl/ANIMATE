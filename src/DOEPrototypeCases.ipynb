{
 "cells": [
  {
   "cell_type": "markdown",
   "id": "interpreted-looking",
   "metadata": {},
   "source": [
    "# Verification demonstration for DOE prototypes code compliances"
   ]
  },
  {
   "cell_type": "markdown",
   "id": "constant-couple",
   "metadata": {},
   "source": [
    "## Load Framework and library"
   ]
  },
  {
   "cell_type": "code",
   "execution_count": 1,
   "id": "scientific-lobby",
   "metadata": {},
   "outputs": [],
   "source": [
    "from workflowsteps import *\n",
    "from library import *\n",
    "from libcases import *\n",
    "from datetimeep import DateTimeEP\n",
    "\n",
    "import matplotlib.pyplot as plt\n",
    "# plt.rcParams['figure.figsize'] = [16, 12]"
   ]
  },
  {
   "cell_type": "markdown",
   "id": "wicked-egypt",
   "metadata": {},
   "source": [
    "## Load and assemble verification items"
   ]
  },
  {
   "cell_type": "code",
   "execution_count": 2,
   "id": "pregnant-organic",
   "metadata": {},
   "outputs": [],
   "source": [
    "cases_path = \"../schema/new_library_verification_cases.json\"\n",
    "lib_items_path = \"../schema/library.json\"\n",
    "items = assemble_verification_items(\n",
    "    cases_path=cases_path, lib_items_path=lib_items_path\n",
    ")"
   ]
  },
  {
   "cell_type": "markdown",
   "id": "funny-statement",
   "metadata": {},
   "source": [
    "## note: in flag plots, 1 -> pass, 0 -> fail"
   ]
  },
  {
   "cell_type": "markdown",
   "id": "pretty-factor",
   "metadata": {},
   "source": [
    "----"
   ]
  },
  {
   "cell_type": "code",
   "execution_count": 3,
   "id": "monetary-timer",
   "metadata": {},
   "outputs": [],
   "source": [
    "caseid = 1"
   ]
  },
  {
   "cell_type": "code",
   "execution_count": 4,
   "id": "attended-india",
   "metadata": {},
   "outputs": [
    {
     "name": "stdout",
     "output_type": "stream",
     "text": [
      "This is a SupplyAirTempReset verification, and should PASS\n",
      "\n",
      "{'no': 1, 'run_simulation': True, 'simulation_IO': {'idf': '../resources/doe_prototype_cases/ASHRAE901_Hospital_STD2019_Atlanta.idf', 'idd': '../resources/Energy+V9_0_1.idd', 'weather': '../weather/USA_GA_Atlanta-Hartsfield.Jackson.Intl.AP.722190_TMY3.epw', 'output': 'eplusout.csv'}, 'expected_result': 'pass', 'datapoints_source': {'idf_output_variables': {'T_sa_set': {'subject': 'VAV_1 Supply Equipment Outlet Node', 'variable': 'System Node Setpoint Temperature', 'frequency': 'detailed'}}, 'parameters': {'T_z_coo': 24.0}}, 'verification_class': 'SupplyAirTempReset', 'library_item_id': 1, 'description_brief': 'Cooling supply air temperature reset scale (25%)', 'description_detail': 'Multiple zone HVAC systems must include controls that automatically reset the supply air temperature in response to representative building loads, or to outdoor air temperature. The controls shall reset the supply air temperature at least 25% of the difference between the design supply air temperature and the design room air temperature. Controls that adjust the reset based on zone humidity are allowed. Zones that are expected to experience relatively constant loads, such as electronic equipment rooms, shall be designed for the fully reset supply temperature.', 'description_index': ['Section 6.5.3.5 in 90.1-2016'], 'description_datapoints': {'T_sa_set': 'AHU supply air temperature setpoint', 'T_z_coo': 'Design zone cooling air temperature'}, 'description_assertions': ['Max(T_sa_set) - Min(T_sa_set) >= (T_z_coo - Min(T_sa_set)) * 0.25'], 'description_verification_type': 'rule-based', 'assertions_type': 'pass'}\n"
     ]
    }
   ],
   "source": [
    "item = items[caseid - 1]\n",
    "print(f\"This is a {item['verification_class']} verification, and should {item['expected_result'].upper()}\\n\")\n",
    "print(item)"
   ]
  },
  {
   "cell_type": "code",
   "execution_count": null,
   "id": "informed-hygiene",
   "metadata": {
    "scrolled": false
   },
   "outputs": [],
   "source": [
    "try:    \n",
    "    plt.rcParams['figure.figsize'] = [16, 4 * 3]\n",
    "    run_libcase(item, plot_option='day-expand')\n",
    "except Exception as e:\n",
    "    print(e)"
   ]
  },
  {
   "cell_type": "markdown",
   "id": "possible-saver",
   "metadata": {},
   "source": [
    "----"
   ]
  },
  {
   "cell_type": "code",
   "execution_count": null,
   "id": "naked-lindsay",
   "metadata": {},
   "outputs": [],
   "source": [
    "caseid = 2"
   ]
  },
  {
   "cell_type": "code",
   "execution_count": null,
   "id": "silent-cabinet",
   "metadata": {},
   "outputs": [],
   "source": [
    "item = items[caseid - 1]\n",
    "print(f\"This is a {item['verification_class']} verification, and should {item['expected_result'].upper()}\\n\")\n",
    "print(item)"
   ]
  },
  {
   "cell_type": "code",
   "execution_count": null,
   "id": "bottom-thriller",
   "metadata": {},
   "outputs": [],
   "source": [
    "try:    \n",
    "    plt.rcParams['figure.figsize'] = [16, 4 * 3]\n",
    "    run_libcase(item, plot_option='day-expand')\n",
    "except Exception as e:\n",
    "    print(e)"
   ]
  },
  {
   "cell_type": "markdown",
   "id": "further-senate",
   "metadata": {},
   "source": [
    "----"
   ]
  },
  {
   "cell_type": "code",
   "execution_count": null,
   "id": "located-sacramento",
   "metadata": {},
   "outputs": [],
   "source": [
    "caseid = 3"
   ]
  },
  {
   "cell_type": "code",
   "execution_count": null,
   "id": "departmental-teacher",
   "metadata": {},
   "outputs": [],
   "source": [
    "item = items[caseid - 1]\n",
    "print(f\"This is a {item['verification_class']} verification, and should {item['expected_result'].upper()}\\n\")\n",
    "print(item)"
   ]
  },
  {
   "cell_type": "code",
   "execution_count": null,
   "id": "diverse-miller",
   "metadata": {},
   "outputs": [],
   "source": [
    "try:    \n",
    "    plt.rcParams['figure.figsize'] = [16, 4 * 3]\n",
    "    run_libcase(item, plot_option='day-expand')\n",
    "except Exception as e:\n",
    "    print(e)"
   ]
  },
  {
   "cell_type": "markdown",
   "id": "willing-disaster",
   "metadata": {},
   "source": [
    "----"
   ]
  },
  {
   "cell_type": "code",
   "execution_count": null,
   "id": "unnecessary-orbit",
   "metadata": {},
   "outputs": [],
   "source": [
    "caseid = 4"
   ]
  },
  {
   "cell_type": "code",
   "execution_count": null,
   "id": "numerous-closer",
   "metadata": {},
   "outputs": [],
   "source": [
    "item = items[caseid - 1]\n",
    "print(f\"This is a {item['verification_class']} verification, and should {item['expected_result'].upper()}\\n\")\n",
    "print(item)"
   ]
  },
  {
   "cell_type": "code",
   "execution_count": null,
   "id": "noticed-helena",
   "metadata": {},
   "outputs": [],
   "source": [
    "try:    \n",
    "    plt.rcParams['figure.figsize'] = [16, 4 * 3]\n",
    "    run_libcase(item, plot_option='day-expand')\n",
    "except Exception as e:\n",
    "    print(e)"
   ]
  },
  {
   "cell_type": "markdown",
   "id": "grave-sense",
   "metadata": {},
   "source": [
    "----"
   ]
  },
  {
   "cell_type": "code",
   "execution_count": null,
   "id": "lovely-steering",
   "metadata": {},
   "outputs": [],
   "source": [
    "caseid = 5"
   ]
  },
  {
   "cell_type": "code",
   "execution_count": null,
   "id": "supreme-cookbook",
   "metadata": {},
   "outputs": [],
   "source": [
    "item = items[caseid - 1]\n",
    "print(f\"This is a {item['verification_class']} verification, and should {item['expected_result'].upper()}\\n\")\n",
    "print(item)"
   ]
  },
  {
   "cell_type": "code",
   "execution_count": null,
   "id": "reflected-murray",
   "metadata": {
    "scrolled": false
   },
   "outputs": [],
   "source": [
    "try:    \n",
    "    plt.rcParams['figure.figsize'] = [16, 4 * 7]\n",
    "    run_libcase(item, plot_option='day-expand')\n",
    "except Exception as e:\n",
    "    print(e)"
   ]
  },
  {
   "cell_type": "markdown",
   "id": "instrumental-dimension",
   "metadata": {},
   "source": [
    "----"
   ]
  },
  {
   "cell_type": "code",
   "execution_count": null,
   "id": "received-product",
   "metadata": {},
   "outputs": [],
   "source": [
    "caseid = 6"
   ]
  },
  {
   "cell_type": "code",
   "execution_count": null,
   "id": "stretch-migration",
   "metadata": {},
   "outputs": [],
   "source": [
    "item = items[caseid - 1]\n",
    "print(f\"This is a {item['verification_class']} verification, and should {item['expected_result'].upper()}\\n\")\n",
    "print(item)"
   ]
  },
  {
   "cell_type": "code",
   "execution_count": null,
   "id": "opened-pressure",
   "metadata": {},
   "outputs": [],
   "source": [
    "try:    \n",
    "    plt.rcParams['figure.figsize'] = [16, 4 * 7]\n",
    "    run_libcase(item, plot_option='day-expand')\n",
    "except Exception as e:\n",
    "    print(e)"
   ]
  },
  {
   "cell_type": "markdown",
   "id": "coupled-ocean",
   "metadata": {},
   "source": [
    "----"
   ]
  },
  {
   "cell_type": "code",
   "execution_count": null,
   "id": "individual-atlas",
   "metadata": {},
   "outputs": [],
   "source": [
    "caseid = 7"
   ]
  },
  {
   "cell_type": "code",
   "execution_count": null,
   "id": "mental-cleanup",
   "metadata": {},
   "outputs": [],
   "source": [
    "item = items[caseid - 1]\n",
    "print(f\"This is a {item['verification_class']} verification, and should {item['expected_result'].upper()}\\n\")\n",
    "print(item)"
   ]
  },
  {
   "cell_type": "code",
   "execution_count": null,
   "id": "freelance-airfare",
   "metadata": {},
   "outputs": [],
   "source": [
    "try:    \n",
    "    plt.rcParams['figure.figsize'] = [16, 4 * 3]\n",
    "    run_libcase(item, plot_option='day-expand')\n",
    "except Exception as e:\n",
    "    print(e)"
   ]
  },
  {
   "cell_type": "markdown",
   "id": "extra-front",
   "metadata": {},
   "source": [
    "----"
   ]
  },
  {
   "cell_type": "code",
   "execution_count": null,
   "id": "broad-mitchell",
   "metadata": {},
   "outputs": [],
   "source": [
    "caseid = 8"
   ]
  },
  {
   "cell_type": "code",
   "execution_count": null,
   "id": "artificial-persian",
   "metadata": {},
   "outputs": [],
   "source": [
    "item = items[caseid - 1]\n",
    "print(f\"This is a {item['verification_class']} verification, and should {item['expected_result'].upper()}\\n\")\n",
    "print(item)"
   ]
  },
  {
   "cell_type": "code",
   "execution_count": null,
   "id": "forbidden-apache",
   "metadata": {},
   "outputs": [],
   "source": [
    "try:    \n",
    "    plt.rcParams['figure.figsize'] = [16, 4 * 3]\n",
    "    run_libcase(item, plot_option='day-expand')\n",
    "except Exception as e:\n",
    "    print(e)"
   ]
  },
  {
   "cell_type": "markdown",
   "id": "sensitive-detector",
   "metadata": {},
   "source": [
    "----"
   ]
  },
  {
   "cell_type": "code",
   "execution_count": null,
   "id": "compact-documentation",
   "metadata": {},
   "outputs": [],
   "source": [
    "caseid = 9"
   ]
  },
  {
   "cell_type": "code",
   "execution_count": null,
   "id": "understanding-person",
   "metadata": {},
   "outputs": [],
   "source": [
    "item = items[caseid - 1]\n",
    "print(f\"This is a {item['verification_class']} verification, and should {item['expected_result'].upper()}\\n\")\n",
    "print(item)"
   ]
  },
  {
   "cell_type": "code",
   "execution_count": null,
   "id": "assumed-preliminary",
   "metadata": {},
   "outputs": [],
   "source": [
    "try:    \n",
    "    plt.rcParams['figure.figsize'] = [16, 4 * 6]\n",
    "    run_libcase(item, plot_option='day-expand')\n",
    "except Exception as e:\n",
    "    print(e)"
   ]
  },
  {
   "cell_type": "markdown",
   "id": "second-efficiency",
   "metadata": {},
   "source": [
    "----"
   ]
  },
  {
   "cell_type": "code",
   "execution_count": null,
   "id": "extended-sodium",
   "metadata": {},
   "outputs": [],
   "source": [
    "caseid = 10"
   ]
  },
  {
   "cell_type": "code",
   "execution_count": null,
   "id": "technical-sodium",
   "metadata": {},
   "outputs": [],
   "source": [
    "item = items[caseid - 1]\n",
    "print(f\"This is a {item['verification_class']} verification, and should {item['expected_result'].upper()}\\n\")\n",
    "print(item)"
   ]
  },
  {
   "cell_type": "code",
   "execution_count": null,
   "id": "concrete-owner",
   "metadata": {},
   "outputs": [],
   "source": [
    "try:    \n",
    "    plt.rcParams['figure.figsize'] = [16, 4 * 6]\n",
    "    run_libcase(item, plot_option='day-expand')\n",
    "except Exception as e:\n",
    "    print(e)"
   ]
  },
  {
   "cell_type": "markdown",
   "id": "illegal-myanmar",
   "metadata": {},
   "source": [
    "----"
   ]
  },
  {
   "cell_type": "code",
   "execution_count": null,
   "id": "smooth-beatles",
   "metadata": {},
   "outputs": [],
   "source": [
    "caseid = 11"
   ]
  },
  {
   "cell_type": "code",
   "execution_count": null,
   "id": "dynamic-fraud",
   "metadata": {},
   "outputs": [],
   "source": [
    "item = items[caseid - 1]\n",
    "print(f\"This is a {item['verification_class']} verification, and should {item['expected_result'].upper()}\\n\")\n",
    "print(item)"
   ]
  },
  {
   "cell_type": "code",
   "execution_count": null,
   "id": "authorized-canyon",
   "metadata": {},
   "outputs": [],
   "source": [
    "try:    \n",
    "    plt.rcParams['figure.figsize'] = [16, 4 * 6]\n",
    "    run_libcase(item, plot_option='day-expand')\n",
    "except Exception as e:\n",
    "    print(e)"
   ]
  },
  {
   "cell_type": "markdown",
   "id": "lucky-bachelor",
   "metadata": {},
   "source": [
    "----"
   ]
  },
  {
   "cell_type": "code",
   "execution_count": null,
   "id": "forward-dialogue",
   "metadata": {},
   "outputs": [],
   "source": [
    "caseid = 12"
   ]
  },
  {
   "cell_type": "code",
   "execution_count": null,
   "id": "recreational-tumor",
   "metadata": {},
   "outputs": [],
   "source": [
    "item = items[caseid - 1]\n",
    "print(f\"This is a {item['verification_class']} verification, and should {item['expected_result'].upper()}\\n\")\n",
    "print(item)"
   ]
  },
  {
   "cell_type": "code",
   "execution_count": null,
   "id": "quality-difficulty",
   "metadata": {},
   "outputs": [],
   "source": [
    "try:    \n",
    "    plt.rcParams['figure.figsize'] = [16, 4 * 6]\n",
    "    run_libcase(item, plot_option='day-expand')\n",
    "except Exception as e:\n",
    "    print(e)"
   ]
  }
 ],
 "metadata": {
  "hide_input": false,
  "kernelspec": {
   "display_name": "Python 3",
   "language": "python",
   "name": "python3"
  },
  "language_info": {
   "codemirror_mode": {
    "name": "ipython",
    "version": 3
   },
   "file_extension": ".py",
   "mimetype": "text/x-python",
   "name": "python",
   "nbconvert_exporter": "python",
   "pygments_lexer": "ipython3",
   "version": "3.7.9"
  }
 },
 "nbformat": 4,
 "nbformat_minor": 5
}
